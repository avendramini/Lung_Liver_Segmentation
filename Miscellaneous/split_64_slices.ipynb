{
 "cells": [
  {
   "cell_type": "code",
   "execution_count": 1,
   "metadata": {},
   "outputs": [
    {
     "name": "stdout",
     "output_type": "stream",
     "text": [
      "Error processing file E:\\Task03_Liver\\TestVolumes\\liver_107.nii.gz: Error -3 while decompressing data: invalid code lengths set\n"
     ]
    }
   ],
   "source": [
    "import os\n",
    "import nibabel as nib\n",
    "import numpy as np\n",
    "\n",
    "def split_nii_by_64(input_folder, output_folder):\n",
    "    if not os.path.exists(output_folder):\n",
    "        os.makedirs(output_folder)\n",
    "    \n",
    "    for filename in os.listdir(input_folder):\n",
    "        if filename.endswith('.nii') or filename.endswith('.nii.gz'):\n",
    "            filepath = os.path.join(input_folder, filename)\n",
    "            try:\n",
    "                img = nib.load(filepath)\n",
    "                data = img.get_fdata()\n",
    "                \n",
    "                num_slices = data.shape[2]\n",
    "                num_chunks = num_slices // 64\n",
    "                \n",
    "                for i in range(num_chunks):\n",
    "                    chunk_data = data[:, :, i*64:(i+1)*64]\n",
    "                    chunk_img = nib.Nifti1Image(chunk_data, img.affine)\n",
    "                    chunk_filename = f\"{os.path.splitext(filename)[0]}_chunk_{i}.nii.gz\"\n",
    "                    nib.save(chunk_img, os.path.join(output_folder, chunk_filename))\n",
    "            except Exception as e:\n",
    "                print(f\"Error processing file {filepath}: {e}\")\n",
    "\n",
    "def process_folders(base_folder):\n",
    "    for folder in os.listdir(base_folder):\n",
    "        input_folder = os.path.join(base_folder, folder)\n",
    "        output_folder = os.path.join(base_folder, f\"{folder}_splitted\")\n",
    "        split_nii_by_64(input_folder, output_folder)\n",
    "\n",
    "base_folder = 'E:\\\\Task03_Liver\\\\'\n",
    "process_folders(base_folder)"
   ]
  }
 ],
 "metadata": {
  "kernelspec": {
   "display_name": "siv",
   "language": "python",
   "name": "python3"
  },
  "language_info": {
   "codemirror_mode": {
    "name": "ipython",
    "version": 3
   },
   "file_extension": ".py",
   "mimetype": "text/x-python",
   "name": "python",
   "nbconvert_exporter": "python",
   "pygments_lexer": "ipython3",
   "version": "3.12.0"
  }
 },
 "nbformat": 4,
 "nbformat_minor": 2
}
