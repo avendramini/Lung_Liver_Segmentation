{
 "cells": [
  {
   "cell_type": "code",
   "execution_count": null,
   "metadata": {},
   "outputs": [],
   "source": [
    "import nibabel as nib\n",
    "import numpy as np\n",
    "\n",
    "def load_nifti_image(file_path):\n",
    "    \"\"\"\n",
    "    Carica un'immagine NIfTI (.nii.gz) e restituisce i dati dell'immagine come array numpy.\n",
    "    \"\"\"\n",
    "    img = nib.load(file_path)\n",
    "    img_data = img.get_fdata()\n",
    "    return img_data\n",
    "\n",
    "def get_slice_with_largest_label(mri_path, label_path):\n",
    "    \"\"\"\n",
    "    Carica l'immagine MRI e le label, e restituisce lo slice con la label più grande.\n",
    "    \"\"\"\n",
    "    mri_data = load_nifti_image(mri_path)\n",
    "    label_data = load_nifti_image(label_path)\n",
    "    \n",
    "    # Trova lo slice con la label più grande\n",
    "    slice_index = np.argmax(np.sum(label_data, axis=(0, 1)))\n",
    "    \n",
    "    # Restituisce lo slice dell'immagine MRI corrispondente\n",
    "    mri_slice = mri_data[:, :, slice_index]\n",
    "    label_slice = label_data[:, :, slice_index]\n",
    "    \n",
    "    return mri_slice, label_slice\n",
    "\n",
    "# Esempio di utilizzo\n",
    "mri_path = 'path/to/mri_image.nii.gz'\n",
    "label_path = 'path/to/label_image.nii.gz'\n",
    "mri_slice, label_slice = get_slice_with_largest_label(mri_path, label_path)\n",
    "\n",
    "# Visualizza lo slice\n",
    "import matplotlib.pyplot as plt\n",
    "\n",
    "plt.figure(figsize=(10, 5))\n",
    "plt.subplot(1, 2, 1)\n",
    "plt.title('MRI Slice')\n",
    "plt.imshow(mri_slice.T, cmap='gray', origin='lower')\n",
    "plt.subplot(1, 2, 2)\n",
    "plt.title('Label Slice')\n",
    "plt.imshow(label_slice.T, cmap='gray', origin='lower')\n",
    "plt.show()"
   ]
  }
 ],
 "metadata": {
  "language_info": {
   "name": "python"
  }
 },
 "nbformat": 4,
 "nbformat_minor": 2
}
