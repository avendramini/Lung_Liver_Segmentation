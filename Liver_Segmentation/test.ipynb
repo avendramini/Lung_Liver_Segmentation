{
 "cells": [
  {
   "cell_type": "code",
   "execution_count": 4,
   "metadata": {},
   "outputs": [],
   "source": [
    "import nibabel as nib\n",
    "import numpy as np\n",
    "import matplotlib.pyplot as plt\n",
    "\n",
    "def load_nifti_image(file_path):\n",
    "    \"\"\"\n",
    "    Carica un'immagine NIfTI (.nii.gz) e restituisce i dati dell'immagine come array numpy.\n",
    "    \"\"\"\n",
    "    img = nib.load(file_path)\n",
    "    img_data = img.get_fdata()\n",
    "    return img_data\n",
    "\n",
    "def get_slice_with_largest_label(mri_path, label_path):\n",
    "    \"\"\"\n",
    "    Carica l'immagine MRI e le label, e restituisce lo slice con la label più grande.\n",
    "    \"\"\"\n",
    "    mri_data = load_nifti_image(mri_path)\n",
    "    label_data = load_nifti_image(label_path)\n",
    "    # Rendi tutti i valori != 0 uguali a 1\n",
    "    label_data[label_data != 0] = 1\n",
    "    # Trova lo slice con la label più grande\n",
    "    slice_index = np.argmax(np.sum(label_data, axis=(0, 1)))\n",
    "    \n",
    "    # Restituisce lo slice dell'immagine MRI corrispondente\n",
    "    mri_slice = mri_data[:, :, slice_index]\n",
    "    label_slice = label_data[:, :, slice_index]\n",
    "    \n",
    "    return mri_slice, label_slice\n",
    "def visualize_slice(mri_slice, label_slice, mri_title='MRI', label_title='Label'):\n",
    "    \"\"\"\n",
    "    Visualizza lo slice dell'immagine MRI e delle label.\n",
    "    \"\"\"\n",
    "    fig, ax = plt.subplots(1, 2, figsize=(10, 5))\n",
    "    ax[0].imshow(mri_slice, cmap='gray')\n",
    "    ax[0].set_title(mri_title)\n",
    "    ax[1].imshow(label_slice, cmap='Reds', vmin=0, vmax=1)\n",
    "    ax[1].set_title(label_title)\n",
    "    plt.show()\n",
    "def dice_score(mask1, mask2):\n",
    "    \"\"\"\n",
    "    Calcola il coefficiente di Dice tra due maschere binarie.\n",
    "    \"\"\"\n",
    "    intersection = np.sum(mask1 * mask2)\n",
    "    return 2. * intersection / (np.sum(mask1) + np.sum(mask2))\n"
   ]
  },
  {
   "cell_type": "code",
   "execution_count": 5,
   "metadata": {},
   "outputs": [],
   "source": [
    "mri_folder_path = '..\\\\..\\\\Task03_Liver\\\\Task03_Liver\\\\imagesTr\\\\'\n",
    "label_folder_path = '..\\\\..\\\\Task03_Liver\\\\Task03_Liver\\\\labelsTr\\\\'"
   ]
  },
  {
   "cell_type": "code",
   "execution_count": 7,
   "metadata": {},
   "outputs": [
    {
     "name": "stdout",
     "output_type": "stream",
     "text": [
      "Iteration 0:\n",
      "Dice score (Watershed): 0.9237512584217455\n",
      "Dice score (Exploration): 0.9619152876515921\n",
      "Dice score (Flood): 0.909079365079365\n",
      "{'watershed': [0.9237512584217455], 'exploration': [0.9619152876515921], 'flood': [0.909079365079365]}\n",
      "Iteration 1:\n",
      "Dice score (Watershed): 0.9628600745801736\n",
      "Dice score (Exploration): 0.974172390322381\n",
      "Dice score (Flood): 0.9321181320818316\n",
      "{'watershed': [0.9237512584217455, 0.9628600745801736], 'exploration': [0.9619152876515921, 0.974172390322381], 'flood': [0.909079365079365, 0.9321181320818316]}\n",
      "Iteration 2:\n",
      "Dice score (Watershed): 0.2824533011852425\n",
      "Dice score (Exploration): 0.3928963681379028\n",
      "Dice score (Flood): 0.09740274069333804\n",
      "{'watershed': [0.9237512584217455, 0.9628600745801736, 0.2824533011852425], 'exploration': [0.9619152876515921, 0.974172390322381, 0.3928963681379028], 'flood': [0.909079365079365, 0.9321181320818316, 0.09740274069333804]}\n",
      "Iteration 3:\n",
      "Dice score (Watershed): 0.0\n",
      "Dice score (Exploration): 0.9053594434424117\n",
      "Dice score (Flood): 0.021837349397590362\n",
      "{'watershed': [0.9237512584217455, 0.9628600745801736, 0.2824533011852425, 0.0], 'exploration': [0.9619152876515921, 0.974172390322381, 0.3928963681379028, 0.9053594434424117], 'flood': [0.909079365079365, 0.9321181320818316, 0.09740274069333804, 0.021837349397590362]}\n",
      "Iteration 4:\n",
      "Dice score (Watershed): 0.0\n",
      "Dice score (Exploration): 5.289326139849783e-05\n",
      "Dice score (Flood): 0.25211115000583423\n",
      "{'watershed': [0.9237512584217455, 0.9628600745801736, 0.2824533011852425, 0.0, 0.0], 'exploration': [0.9619152876515921, 0.974172390322381, 0.3928963681379028, 0.9053594434424117, 5.289326139849783e-05], 'flood': [0.909079365079365, 0.9321181320818316, 0.09740274069333804, 0.021837349397590362, 0.25211115000583423]}\n",
      "Iteration 5:\n",
      "Dice score (Watershed): 0.15302452239284445\n",
      "Dice score (Exploration): 0.0030342037513791833\n",
      "Dice score (Flood): 0.15302452239284445\n",
      "{'watershed': [0.9237512584217455, 0.9628600745801736, 0.2824533011852425, 0.0, 0.0, 0.15302452239284445], 'exploration': [0.9619152876515921, 0.974172390322381, 0.3928963681379028, 0.9053594434424117, 5.289326139849783e-05, 0.0030342037513791833], 'flood': [0.909079365079365, 0.9321181320818316, 0.09740274069333804, 0.021837349397590362, 0.25211115000583423, 0.15302452239284445]}\n",
      "Iteration 6:\n",
      "Dice score (Watershed): 0.17150509883793927\n",
      "Dice score (Exploration): 0.37581321620818336\n",
      "Dice score (Flood): 0.17150509883793927\n",
      "{'watershed': [0.9237512584217455, 0.9628600745801736, 0.2824533011852425, 0.0, 0.0, 0.15302452239284445, 0.17150509883793927], 'exploration': [0.9619152876515921, 0.974172390322381, 0.3928963681379028, 0.9053594434424117, 5.289326139849783e-05, 0.0030342037513791833, 0.37581321620818336], 'flood': [0.909079365079365, 0.9321181320818316, 0.09740274069333804, 0.021837349397590362, 0.25211115000583423, 0.15302452239284445, 0.17150509883793927]}\n",
      "Iteration 7:\n",
      "Dice score (Watershed): 0.22521918689279308\n",
      "Dice score (Exploration): 0.011714780945550176\n",
      "Dice score (Flood): 0.006292889035390009\n",
      "{'watershed': [0.9237512584217455, 0.9628600745801736, 0.2824533011852425, 0.0, 0.0, 0.15302452239284445, 0.17150509883793927, 0.22521918689279308], 'exploration': [0.9619152876515921, 0.974172390322381, 0.3928963681379028, 0.9053594434424117, 5.289326139849783e-05, 0.0030342037513791833, 0.37581321620818336, 0.011714780945550176], 'flood': [0.909079365079365, 0.9321181320818316, 0.09740274069333804, 0.021837349397590362, 0.25211115000583423, 0.15302452239284445, 0.17150509883793927, 0.006292889035390009]}\n",
      "Iteration 8:\n",
      "Dice score (Watershed): 0.0\n",
      "Dice score (Exploration): 0.2501029512697323\n",
      "Dice score (Flood): 0.21679239764092867\n",
      "{'watershed': [0.9237512584217455, 0.9628600745801736, 0.2824533011852425, 0.0, 0.0, 0.15302452239284445, 0.17150509883793927, 0.22521918689279308, 0.0], 'exploration': [0.9619152876515921, 0.974172390322381, 0.3928963681379028, 0.9053594434424117, 5.289326139849783e-05, 0.0030342037513791833, 0.37581321620818336, 0.011714780945550176, 0.2501029512697323], 'flood': [0.909079365079365, 0.9321181320818316, 0.09740274069333804, 0.021837349397590362, 0.25211115000583423, 0.15302452239284445, 0.17150509883793927, 0.006292889035390009, 0.21679239764092867]}\n",
      "Iteration 9:\n",
      "Dice score (Watershed): 0.16464970717038727\n",
      "Dice score (Exploration): 8.504124500382685e-05\n",
      "Dice score (Flood): 0.00025510204081632655\n",
      "{'watershed': [0.9237512584217455, 0.9628600745801736, 0.2824533011852425, 0.0, 0.0, 0.15302452239284445, 0.17150509883793927, 0.22521918689279308, 0.0, 0.16464970717038727], 'exploration': [0.9619152876515921, 0.974172390322381, 0.3928963681379028, 0.9053594434424117, 5.289326139849783e-05, 0.0030342037513791833, 0.37581321620818336, 0.011714780945550176, 0.2501029512697323, 8.504124500382685e-05], 'flood': [0.909079365079365, 0.9321181320818316, 0.09740274069333804, 0.021837349397590362, 0.25211115000583423, 0.15302452239284445, 0.17150509883793927, 0.006292889035390009, 0.21679239764092867, 0.00025510204081632655]}\n",
      "Iteration 10:\n",
      "Dice score (Watershed): 0.3789828342385779\n",
      "Dice score (Exploration): 0.7382598870056497\n",
      "Dice score (Flood): 0.3856411443117063\n",
      "{'watershed': [0.9237512584217455, 0.9628600745801736, 0.2824533011852425, 0.0, 0.0, 0.15302452239284445, 0.17150509883793927, 0.22521918689279308, 0.0, 0.16464970717038727, 0.3789828342385779], 'exploration': [0.9619152876515921, 0.974172390322381, 0.3928963681379028, 0.9053594434424117, 5.289326139849783e-05, 0.0030342037513791833, 0.37581321620818336, 0.011714780945550176, 0.2501029512697323, 8.504124500382685e-05, 0.7382598870056497], 'flood': [0.909079365079365, 0.9321181320818316, 0.09740274069333804, 0.021837349397590362, 0.25211115000583423, 0.15302452239284445, 0.17150509883793927, 0.006292889035390009, 0.21679239764092867, 0.00025510204081632655, 0.3856411443117063]}\n"
     ]
    }
   ],
   "source": [
    "import segmentation_functions as sf\n",
    "dice_scores = {\n",
    "    'watershed': [],\n",
    "    'exploration': [],\n",
    "    'flood': []\n",
    "}\n",
    "N=10\n",
    "for i in range(0,N+1):\n",
    "\n",
    "    mri_path = mri_folder_path+f'liver_{i}.nii.gz'\n",
    "    label_path = label_folder_path + f'liver_{i}.nii.gz'\n",
    "    mri_slice, label_slice = get_slice_with_largest_label(mri_path, label_path)\n",
    "    wshedmask=sf.watershed_segmentation(mri_slice)\n",
    "    exploremask=sf.exploration_segmentation(mri_slice,label_slice)\n",
    "    floodmask=sf.flood_segmentation(mri_slice,label_slice)\n",
    "    #visualize_slice(mri_slice, label_slice)\n",
    "    #visualize_slice(mri_slice, wshedmask, mri_title='MRI', label_title='Watershed mask')\n",
    "    #visualize_slice(mri_slice, exploremask, mri_title='MRI', label_title='Exploration mask')\n",
    "    #visualize_slice(mri_slice, floodmask, mri_title='MRI', label_title='Flooded mask')\n",
    "\n",
    "    dice_scores['watershed'].append(dice_score(wshedmask, label_slice))\n",
    "    dice_scores['exploration'].append(dice_score(exploremask, label_slice))\n",
    "    dice_scores['flood'].append(dice_score(floodmask, label_slice))\n",
    "    \"\"\"print(f\"Iteration {i}:\")\n",
    "    print(f\"Dice score (Watershed): {dice_scores['watershed'][-1]}\")\n",
    "    print(f\"Dice score (Exploration): {dice_scores['exploration'][-1]}\")\n",
    "    print(f\"Dice score (Flood): {dice_scores['flood'][-1]}\")\n",
    "\n",
    "    print(dice_scores)\"\"\""
   ]
  },
  {
   "cell_type": "code",
   "execution_count": 8,
   "metadata": {},
   "outputs": [
    {
     "name": "stdout",
     "output_type": "stream",
     "text": [
      "Average Dice score (Watershed): 0.296585998519973\n",
      "Average Dice score (Exploration): 0.41940058756738047\n",
      "Average Dice score (Flood): 0.2860054446834167\n"
     ]
    }
   ],
   "source": [
    "print(f\"Average Dice score (Watershed): {np.mean(dice_scores['watershed'])}\")\n",
    "print(f\"Average Dice score (Exploration): {np.mean(dice_scores['exploration'])}\")\n",
    "print(f\"Average Dice score (Flood): {np.mean(dice_scores['flood'])}\")"
   ]
  }
 ],
 "metadata": {
  "kernelspec": {
   "display_name": "siv",
   "language": "python",
   "name": "python3"
  },
  "language_info": {
   "codemirror_mode": {
    "name": "ipython",
    "version": 3
   },
   "file_extension": ".py",
   "mimetype": "text/x-python",
   "name": "python",
   "nbconvert_exporter": "python",
   "pygments_lexer": "ipython3",
   "version": "3.12.0"
  }
 },
 "nbformat": 4,
 "nbformat_minor": 2
}
