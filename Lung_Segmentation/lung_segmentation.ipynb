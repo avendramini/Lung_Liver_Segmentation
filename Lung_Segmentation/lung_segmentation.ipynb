{
 "cells": [
  {
   "cell_type": "markdown",
   "metadata": {},
   "source": [
    "Import necessary libraries"
   ]
  },
  {
   "cell_type": "code",
   "execution_count": 2,
   "metadata": {},
   "outputs": [],
   "source": [
    "import nibabel as nib\n",
    "import numpy as np\n",
    "import matplotlib.pyplot as plt\n",
    "from matplotlib import cm\n",
    "from skimage import measure, morphology\n",
    "from skimage.transform import resize\n",
    "from scipy.ndimage import binary_closing, binary_opening\n",
    "from scipy import ndimage\n",
    "from mayavi import mlab\n",
    "from skimage import io, filters, exposure\n",
    "from skimage.restoration import denoise_bilateral\n",
    "import matplotlib.pyplot as plt\n",
    "from matplotlib.animation import FuncAnimation\n",
    "import numpy as np\n",
    "import matplotlib.pyplot as plt\n",
    "from ipywidgets import IntSlider, Output, VBox\n",
    "from IPython.display import display"
   ]
  },
  {
   "cell_type": "markdown",
   "metadata": {},
   "source": [
    "Function to plot 2d slices"
   ]
  },
  {
   "cell_type": "code",
   "execution_count": 3,
   "metadata": {},
   "outputs": [],
   "source": [
    "\n",
    "def plot_with_ipywidgets(organs_mask, slice_axis=2):\n",
    "    \"\"\"\n",
    "    Visualizza un'immagine volumetrica `organs_mask` con uno slider interattivo\n",
    "    per cambiare la slice visualizzata.\n",
    "\n",
    "    Args:\n",
    "        organs_mask (numpy.ndarray): Volume binario da visualizzare.\n",
    "        slice_axis (int): Asse lungo il quale effettuare le sezioni (0, 1 o 2).\n",
    "    \"\"\"\n",
    "    # Creare un'area di output separata\n",
    "    output = Output()\n",
    "\n",
    "    # Funzione per aggiornare la visualizzazione\n",
    "    def update(slice_index):\n",
    "        with output:\n",
    "            output.clear_output(wait=True)\n",
    "            plt.figure(figsize=(8, 8))\n",
    "            if slice_axis == 0:\n",
    "                slice_data = organs_mask[slice_index, :, :]\n",
    "            elif slice_axis == 1:\n",
    "                slice_data = organs_mask[:, slice_index, :]\n",
    "            else:\n",
    "                slice_data = organs_mask[:, :, slice_index]\n",
    "            \n",
    "            plt.imshow(slice_data, cmap='gray')\n",
    "            plt.title(f\"Slice {slice_index} lungo l'asse {slice_axis}\")\n",
    "            plt.axis('off')\n",
    "            plt.show()\n",
    "\n",
    "    # Crea uno slider\n",
    "    slider = IntSlider(min=0, max=organs_mask.shape[slice_axis] - 1, step=1, value=0)\n",
    "    slider.observe(lambda change: update(change['new']), names='value')\n",
    "\n",
    "    # Layout con slider e output\n",
    "    ui = VBox([slider, output])\n",
    "\n",
    "    # Inizializza la visualizzazione\n",
    "    update(0)\n",
    "    display(ui)\n"
   ]
  },
  {
   "cell_type": "markdown",
   "metadata": {},
   "source": [
    "Function to filter lungs"
   ]
  },
  {
   "cell_type": "code",
   "execution_count": 4,
   "metadata": {},
   "outputs": [],
   "source": [
    "def filtra_polmoni(data_resized):\n",
    "    organs_mask = (data_resized < -500) & (data_resized > -1000)\n",
    "    #plot_with_ipywidgets(organs_mask, slice_axis=2)\n",
    "    organs_mask_closed=np.zeros_like(organs_mask)\n",
    "    organs_mask_cleaned=np.zeros_like(organs_mask)\n",
    "    for i in range(organs_mask.shape[2]):\n",
    "        selem = morphology.disk(3)  # Elemento strutturante sferico di raggio 3\n",
    "        organs_mask_closed[:,:,i] = binary_closing(organs_mask[:,:,i], structure=selem)\n",
    "        organs_mask_cleaned[:,:,i] = binary_opening(organs_mask_closed[:,:,i], structure=selem)\n",
    "    \n",
    "    labeled_volume, num_features = ndimage.label(organs_mask_cleaned)\n",
    "    #print(f\"Numero di blob trovati: {num_features}\")\n",
    "\n",
    "    blob_properties = measure.regionprops(labeled_volume)\n",
    "\n",
    "    filtrati = []\n",
    "    for i, prop in enumerate(blob_properties):\n",
    "        if prop.area > 100000:\n",
    "            filtrati.append((prop.area,i + 1))\n",
    "    filtrati=sorted(filtrati)\n",
    "    return filtrati[0][1],labeled_volume\n",
    "\n",
    "\n",
    "def plot_3d_label( labeled_volume, label_number=1,voxel_dimensions=(1, 1, 1)):\n",
    "    # Crea una maschera binaria per la label specificata\n",
    "    label_mask = labeled_volume == label_number\n",
    "\n",
    "    # Trova i contorni della maschera\n",
    "    verts, faces, _, _ = measure.marching_cubes(label_mask, level=0, spacing=voxel_dimensions)\n",
    "\n",
    "    # Crea una figura 3D con mlab\n",
    "    mlab.figure(size=(800, 800))\n",
    "    mlab.triangular_mesh(verts[:, 0], verts[:, 1], verts[:, 2], faces, color=(1, 0, 0))\n",
    "    #mlab.title(f\"3D Plot della label {label_number}\")\n",
    "    mlab.show()\n",
    "\n",
    "\n",
    "\n",
    "\n",
    "def dice_score(mask1, mask2):\n",
    "    \"\"\"\n",
    "    Calcola il Dice Score tra due maschere volumetriche.\n",
    "\n",
    "    Args:\n",
    "        mask1 (numpy.ndarray): Prima maschera binaria.\n",
    "        mask2 (numpy.ndarray): Seconda maschera binaria.\n",
    "\n",
    "    Returns:\n",
    "        float: Dice Score.\n",
    "    \"\"\"\n",
    "    intersection = np.sum(mask1 * mask2)\n",
    "    volume_sum = np.sum(mask1) + np.sum(mask2)\n",
    "    if volume_sum == 0:\n",
    "        return 1.0  # Se entrambe le maschere sono vuote, il Dice Score è 1\n",
    "    return 2.0 * intersection / volume_sum\n",
    "\n",
    "\n",
    "    \n",
    "\n",
    "   "
   ]
  },
  {
   "cell_type": "markdown",
   "metadata": {},
   "source": [
    "Read .nii.gz  MRI image"
   ]
  },
  {
   "cell_type": "code",
   "execution_count": null,
   "metadata": {},
   "outputs": [],
   "source": [
    "# Carica il file .nii\n",
    "img = nib.load('C:\\\\Users\\\\alber\\\\Desktop\\\\OrganSegmentations\\\\volume-1.nii.gz')\n",
    "header = img.header\n",
    "voxel_dimensions = header.get_zooms()\n",
    "data = img.get_fdata()\n",
    "\n",
    "img = nib.load('C:\\\\Users\\\\alber\\\\Desktop\\\\OrganSegmentations\\\\labels-1.nii.gz')\n",
    "true_lung = img.get_fdata()\n",
    "unique_values = np.unique(true_lung)\n",
    "#print(\"Valori presenti in true_lung:\", unique_values)\n",
    "true_lung = np.where(np.isclose(true_lung,3), 1, 0)\n",
    "#plot_with_ipywidgets(true_lung, slice_axis=2)\n"
   ]
  },
  {
   "cell_type": "markdown",
   "metadata": {},
   "source": [
    "Launch filter on image"
   ]
  },
  {
   "cell_type": "code",
   "execution_count": null,
   "metadata": {},
   "outputs": [],
   "source": [
    "label_number, labeled_volume = filtra_polmoni(data)\n",
    "predicted_lung = np.where(labeled_volume == label_number, 1, 0)\n",
    "plot_3d_label(predicted_lung,voxel_dimensions=voxel_dimensions)\n",
    "\n",
    "print(f\"Dice Score: {dice_score(true_lung, predicted_lung)}\")"
   ]
  },
  {
   "cell_type": "markdown",
   "metadata": {},
   "source": [
    "# Evaluation"
   ]
  },
  {
   "cell_type": "code",
   "execution_count": null,
   "metadata": {},
   "outputs": [],
   "source": [
    "dice_scores=[]\n",
    "for i in range(0,131):\n",
    "    print(\"Iteration number: \",i)\n",
    "    img = nib.load('C:\\\\Users\\\\alber\\\\Desktop\\\\OrganSegmentations\\\\volume-'+str(i)+'.nii.gz')\n",
    "    header = img.header\n",
    "    voxel_dimensions = header.get_zooms()\n",
    "    data = img.get_fdata()\n",
    "\n",
    "    img = nib.load('C:\\\\Users\\\\alber\\\\Desktop\\\\OrganSegmentations\\\\labels-'+str(i)+'.nii.gz')\n",
    "    true_lung = img.get_fdata()\n",
    "    true_lung = np.where(np.isclose(true_lung,3), 1, 0)\n",
    "\n",
    "    labeled_true_lung, num_features = ndimage.label(true_lung)\n",
    "    if num_features != 1:\n",
    "        label_number, labeled_volume = filtra_polmoni(data)\n",
    "        predicted_lung = np.where(labeled_volume == label_number, 1, 0)\n",
    "        dice_scores.append(dice_score(true_lung, predicted_lung))\n",
    "    else:\n",
    "        print(f\"Volume {i} has separated lungs\")\n",
    "    \n",
    "\n",
    "print(f\"Average Dice Score: {np.mean(dice_scores)}\")\n"
   ]
  }
 ],
 "metadata": {
  "kernelspec": {
   "display_name": "siv",
   "language": "python",
   "name": "python3"
  },
  "language_info": {
   "codemirror_mode": {
    "name": "ipython",
    "version": 3
   },
   "file_extension": ".py",
   "mimetype": "text/x-python",
   "name": "python",
   "nbconvert_exporter": "python",
   "pygments_lexer": "ipython3",
   "version": "3.12.0"
  }
 },
 "nbformat": 4,
 "nbformat_minor": 2
}
