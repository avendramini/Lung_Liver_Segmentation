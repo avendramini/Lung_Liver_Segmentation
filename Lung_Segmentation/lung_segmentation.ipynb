{
 "cells": [
  {
   "cell_type": "markdown",
   "metadata": {},
   "source": [
    "Import necessary libraries"
   ]
  },
  {
   "cell_type": "code",
   "execution_count": 1,
   "metadata": {},
   "outputs": [],
   "source": [
    "import nibabel as nib\n",
    "import numpy as np\n",
    "import matplotlib.pyplot as plt\n",
    "from matplotlib import cm\n",
    "from skimage import measure, morphology\n",
    "from skimage.transform import resize\n",
    "from scipy.ndimage import binary_closing, binary_opening\n",
    "from scipy import ndimage\n",
    "from mayavi import mlab\n",
    "from skimage import io, filters, exposure\n",
    "from skimage.restoration import denoise_bilateral\n",
    "import matplotlib.pyplot as plt\n",
    "from matplotlib.animation import FuncAnimation\n",
    "import numpy as np\n",
    "import matplotlib.pyplot as plt\n",
    "from ipywidgets import IntSlider, Output, VBox\n",
    "from IPython.display import display"
   ]
  },
  {
   "cell_type": "markdown",
   "metadata": {},
   "source": [
    "Function to plot 2d slices"
   ]
  },
  {
   "cell_type": "code",
   "execution_count": 2,
   "metadata": {},
   "outputs": [],
   "source": [
    "\n",
    "def plot_with_ipywidgets(organs_mask, slice_axis=2):\n",
    "    \"\"\"\n",
    "    Visualizza un'immagine volumetrica `organs_mask` con uno slider interattivo\n",
    "    per cambiare la slice visualizzata.\n",
    "\n",
    "    Args:\n",
    "        organs_mask (numpy.ndarray): Volume binario da visualizzare.\n",
    "        slice_axis (int): Asse lungo il quale effettuare le sezioni (0, 1 o 2).\n",
    "    \"\"\"\n",
    "    # Creare un'area di output separata\n",
    "    output = Output()\n",
    "\n",
    "    # Funzione per aggiornare la visualizzazione\n",
    "    def update(slice_index):\n",
    "        with output:\n",
    "            output.clear_output(wait=True)\n",
    "            plt.figure(figsize=(8, 8))\n",
    "            if slice_axis == 0:\n",
    "                slice_data = organs_mask[slice_index, :, :]\n",
    "            elif slice_axis == 1:\n",
    "                slice_data = organs_mask[:, slice_index, :]\n",
    "            else:\n",
    "                slice_data = organs_mask[:, :, slice_index]\n",
    "            \n",
    "            plt.imshow(slice_data, cmap='gray')\n",
    "            plt.title(f\"Slice {slice_index} lungo l'asse {slice_axis}\")\n",
    "            plt.axis('off')\n",
    "            plt.show()\n",
    "\n",
    "    # Crea uno slider\n",
    "    slider = IntSlider(min=0, max=organs_mask.shape[slice_axis] - 1, step=1, value=0)\n",
    "    slider.observe(lambda change: update(change['new']), names='value')\n",
    "\n",
    "    # Layout con slider e output\n",
    "    ui = VBox([slider, output])\n",
    "\n",
    "    # Inizializza la visualizzazione\n",
    "    update(0)\n",
    "    display(ui)\n",
    "\n",
    "# Esempio di utilizzo\n",
    "\n",
    "\n"
   ]
  },
  {
   "cell_type": "markdown",
   "metadata": {},
   "source": [
    "Function to filter lungs"
   ]
  },
  {
   "cell_type": "code",
   "execution_count": 3,
   "metadata": {},
   "outputs": [],
   "source": [
    "def filtra_polmoni(data_resized,voxel_dimensions):\n",
    "    organs_mask = (data_resized < -500) & (data_resized > -1000)\n",
    "    #plot_with_ipywidgets(organs_mask, slice_axis=2)\n",
    "    organs_mask_closed=np.zeros_like(organs_mask)\n",
    "    organs_mask_cleaned=np.zeros_like(organs_mask)\n",
    "    for i in range(organs_mask.shape[2]):\n",
    "        # Applica prima una chiusura morfologica per eliminare piccoli buchi\n",
    "        selem = morphology.disk(3)  # Elemento strutturante sferico di raggio 3\n",
    "        organs_mask_closed[:,:,i] = binary_closing(organs_mask[:,:,i], structure=selem)\n",
    "        #plot_with_ipywidgets(organs_mask_closed, slice_axis=2)\n",
    "        \n",
    "        # Applica un'apertura morfologica per rimuovere piccole protuberanze\n",
    "        organs_mask_cleaned[:,:,i] = binary_opening(organs_mask_closed[:,:,i], structure=selem)\n",
    "    #plot_with_ipywidgets(organs_mask_cleaned, slice_axis=2)\n",
    "    \n",
    "    labeled_volume, num_features = ndimage.label(organs_mask_cleaned)\n",
    "    print(f\"Numero di blob trovati: {num_features}\")\n",
    "\n",
    "    # Genera la mappa di colori per distinguere i blob\n",
    "    colors = cm.rainbow(np.linspace(0, 1, num_features))\n",
    "    mlab.figure(bgcolor=(1, 1, 1))\n",
    "    blob_properties = measure.regionprops(labeled_volume)\n",
    "\n",
    "    filtrati = []\n",
    "    for i, prop in enumerate(blob_properties):\n",
    "        if prop.area > 100000:\n",
    "            filtrati.append((prop.area,i + 1))\n",
    "    filtrati=sorted(filtrati)\n",
    "    filtrati=filtrati[0:2]\n",
    "    for (area,blob_idx) in filtrati:\n",
    "        blob = (labeled_volume == blob_idx)\n",
    "        verts, faces, _, _ = measure.marching_cubes(blob, level=0.5)\n",
    "\n",
    "        # Scala le coordinate dei vertici in base ai voxel\n",
    "        verts[:, 0] *= voxel_dimensions[0]\n",
    "        verts[:, 1] *= voxel_dimensions[1]\n",
    "        verts[:, 2] *= voxel_dimensions[2]\n",
    "\n",
    "        # Colore per il blob corrente\n",
    "        color = tuple(colors[blob_idx - 1][:3])\n",
    "        mlab.triangular_mesh(verts[:, 0], verts[:, 1], verts[:, 2], faces, color=color)\n",
    "\n",
    "    mlab.axes(extent=[0, data_resized.shape[0] * voxel_dimensions[0],\n",
    "                      0, data_resized.shape[1] * voxel_dimensions[1],\n",
    "                      0, data_resized.shape[2] * voxel_dimensions[2]])\n",
    "    mlab.show()"
   ]
  },
  {
   "cell_type": "markdown",
   "metadata": {},
   "source": [
    "Read .nii MRI image"
   ]
  },
  {
   "cell_type": "code",
   "execution_count": 4,
   "metadata": {},
   "outputs": [],
   "source": [
    "# Carica il file .nii\n",
    "img = nib.load('estratto3.nii')\n",
    "data = img.get_fdata()\n",
    "# Ottieni informazioni sulla dimensione dei voxel\n",
    "header = img.header\n",
    "voxel_dimensions = header.get_zooms()\n"
   ]
  },
  {
   "cell_type": "markdown",
   "metadata": {},
   "source": [
    "Launch filter on image"
   ]
  },
  {
   "cell_type": "code",
   "execution_count": 5,
   "metadata": {},
   "outputs": [
    {
     "name": "stdout",
     "output_type": "stream",
     "text": [
      "Numero di blob trovati: 40\n"
     ]
    }
   ],
   "source": [
    "filtra_polmoni(data,voxel_dimensions)"
   ]
  }
 ],
 "metadata": {
  "kernelspec": {
   "display_name": "siv",
   "language": "python",
   "name": "python3"
  },
  "language_info": {
   "codemirror_mode": {
    "name": "ipython",
    "version": 3
   },
   "file_extension": ".py",
   "mimetype": "text/x-python",
   "name": "python",
   "nbconvert_exporter": "python",
   "pygments_lexer": "ipython3",
   "version": "3.12.0"
  }
 },
 "nbformat": 4,
 "nbformat_minor": 2
}
